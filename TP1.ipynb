{
 "cells": [
  {
   "cell_type": "markdown",
   "metadata": {},
   "source": [
    "# TP1 : Méthodes en 1 dimension"
   ]
  },
  {
   "cell_type": "code",
   "execution_count": 1,
   "metadata": {},
   "outputs": [
    {
     "name": "stdout",
     "output_type": "stream",
     "text": [
      "Populating the interactive namespace from numpy and matplotlib\n"
     ]
    }
   ],
   "source": [
    "%pylab inline"
   ]
  },
  {
   "cell_type": "markdown",
   "metadata": {
    "collapsed": true
   },
   "source": [
    "## 1. Calcul de racines\n",
    "\n",
    "Pour calculer la racine $k$-ene d'un nombre `a` en Python, on peut écrire `x = a**(1/k)`. Dans tout ce TP, on suppose que l'on n'a pas accès à la racine $k$-ème, et on essaye de calculer `x` comme la solution du problème\n",
    "$$\n",
    "f_{a,k}(x) = 0 \\quad \\text{avec} \\quad f_{a,k}(x) := x^k - a.\n",
    "$$"
   ]
  },
  {
   "cell_type": "markdown",
   "metadata": {},
   "source": [
    "**Exercice** : Écrire une fonction `get_f_ak(a,k)` qui renvoie **la fonction** $f_{a,k}$."
   ]
  },
  {
   "cell_type": "code",
   "execution_count": null,
   "metadata": {
    "collapsed": true
   },
   "outputs": [],
   "source": []
  },
  {
   "cell_type": "code",
   "execution_count": 3,
   "metadata": {
    "collapsed": true
   },
   "outputs": [],
   "source": [
    "# Vérification : ce code ne doit pas faire d'erreurs\n",
    "f1 = get_f_ak(1,2) #Votre fonction\n",
    "def f2(x): return x**2 - 1 # La vraie fonction\n",
    "\n",
    "tt = linspace(0,1,100)\n",
    "assert(max(abs(f2(tt) - f1(tt))) == 0), \"Erreur, problème dans la fonction f_ak\""
   ]
  },
  {
   "cell_type": "markdown",
   "metadata": {},
   "source": [
    "**Exercice** : Écrire une fonction `get_df_ak(a,k)` qui renvoie la fonction $f_{a,k}'$."
   ]
  },
  {
   "cell_type": "code",
   "execution_count": null,
   "metadata": {
    "collapsed": true
   },
   "outputs": [],
   "source": []
  },
  {
   "cell_type": "code",
   "execution_count": 5,
   "metadata": {
    "collapsed": true
   },
   "outputs": [],
   "source": [
    "# Vérification : ce code ne doit pas faire d'erreurs\n",
    "df1 = get_df_ak(1,3) #Votre fonction\n",
    "def df2(x): return 3*x**2 # La vraie fonction\n",
    "\n",
    "tt = linspace(0,1,100)\n",
    "assert(max(abs(df2(tt) - df1(tt))) == 0), \"Erreur, problème dans la fonction df_ak\""
   ]
  },
  {
   "cell_type": "markdown",
   "metadata": {},
   "source": [
    "### 1.1/ Méthode de Newton\n",
    "\n",
    "On commence par étudier l'algorithme de Newton pour résoudre l'équation $f_{a,k}(x) = 0$. On rappelle que la suite $(x_n)$ de Newton est définie par\n",
    "$$x_{n+1} = x_n - \\frac{f_{a,k}(x_n)}{f_{a,k}'(x_n)}.$$\n",
    "\n",
    "**Exercice** : Ecrire une fonction `racineNeme_Newton(a, k, tol=1e-8, Niter=1000)` qui calcule $a^{1/k}$ avec l'algorithme de Newton.\n",
    "- On commencera par vérifier que $a > 0$ et $k > 1$ (avec la commande `assert` par exemple) ;\n",
    "- On prendra $x_0 = a$ pour l'initalisation.\n",
    "- On sortira de la boucle principale si $| f_{a,k}(x_n) | < tol$ (pourquoi ?)\n",
    "- On prendra soin d'appeler les fonctions $f_{a,k}$ et $f_{a,k}'$ qu'une fois par itération.\n",
    "- L'algorithme devra aussi renvoyer la liste $[x_0, x_1, ... x_{n-1}]$"
   ]
  },
  {
   "cell_type": "code",
   "execution_count": null,
   "metadata": {
    "collapsed": true
   },
   "outputs": [],
   "source": []
  },
  {
   "cell_type": "code",
   "execution_count": 7,
   "metadata": {
    "collapsed": true
   },
   "outputs": [],
   "source": [
    "# Vérification : ce code ne doit pas faire d'erreur\n",
    "a, k = (10*rand(1)), 3\n",
    "x, L = racineNeme_Newton(a,k) # Votre solution\n",
    "assert( abs(x**k - a) < 1e-6), \"Erreur, problème dans la fonction racineNeme_Newton.\""
   ]
  },
  {
   "cell_type": "markdown",
   "metadata": {},
   "source": [
    "**Exercice** : Vérifier que $10000^{1/4} = 10 =: x^*$ avec votre algorithme, puis afficher la suite $| x_n - x^* |$ en fonction de $n$, en échelle `semilogy`. Qu'observe-t-on ?\n",
    "\n",
    "On rappelle qu'on peut élégamment créer la liste $|x_n - x^*|$ avec la commande\n",
    "\n",
    "`erreurs = [abs(xn - xstar) for xn in L]`"
   ]
  },
  {
   "cell_type": "code",
   "execution_count": null,
   "metadata": {
    "collapsed": true
   },
   "outputs": [],
   "source": []
  },
  {
   "cell_type": "markdown",
   "metadata": {},
   "source": [
    "**Exercice** : Afficher la liste $[x_0 - x^*, ...., x_{N-1} - x^*]$. Qu'observe-t-on ?"
   ]
  },
  {
   "cell_type": "code",
   "execution_count": null,
   "metadata": {
    "collapsed": true
   },
   "outputs": [],
   "source": []
  },
  {
   "cell_type": "markdown",
   "metadata": {},
   "source": [
    "### 1.2/ Méthode de la sécante"
   ]
  },
  {
   "cell_type": "markdown",
   "metadata": {},
   "source": [
    "On cherche maintenant une méthode pour calculer la racine sans calculer la dérivée de $f_{a,k}$. On utilise la méthode de la sécante, définie par\n",
    "$$x_{n+1} = x_n - \\dfrac{x_n - x_{n-1}}{f(x_n) - f(x_{n-1})} f(x_n).$$\n",
    "\n",
    "**Exercice** : Écrire une fonction `racineNeme_Secante(a, k, tol=1e-8, Niter=1000)` qui renvoie $a^{1/k}$ en utilisant la méthode de la sécante.\n",
    "- On prendra $x_0 = a$ et $x_1 = a/2$ pour l'initialisation\n",
    "- De nouveau, on fera attention à appeler la fonction $f_{a,k}$ qu'une fois par itération."
   ]
  },
  {
   "cell_type": "code",
   "execution_count": null,
   "metadata": {
    "collapsed": true
   },
   "outputs": [],
   "source": []
  },
  {
   "cell_type": "code",
   "execution_count": 10,
   "metadata": {
    "collapsed": true
   },
   "outputs": [],
   "source": [
    "# Vérification : ce code ne doit pas faire d'erreur\n",
    "a, k = (10*rand(1)), 3\n",
    "x, L = racineNeme_Secante(a,k) # Votre solution\n",
    "assert( abs(x**k - a) < 1e-6), \"Erreur, problème dans la fonction racineNeme_Secante.\""
   ]
  },
  {
   "cell_type": "markdown",
   "metadata": {},
   "source": [
    "**Exercice** : De nouveau, vérifier que $10000^{1/4} = 10 =: x^*$ avec votre algorithme, puis afficher la suite $| x_n - x^* |$ en fonction de $n$, en échelle `semilogy`. Qu'observe-t-on cette fois-ci ?"
   ]
  },
  {
   "cell_type": "code",
   "execution_count": null,
   "metadata": {
    "collapsed": true
   },
   "outputs": [],
   "source": []
  },
  {
   "cell_type": "markdown",
   "metadata": {},
   "source": [
    "### 1.3/ Comparaison des deux méthodes\n",
    "\n",
    "**Exercice** : Soit $I_N(k)$ et $I_S(k)$ le nombre d'itérations qu'il faut pour calculer $(10^k)^{1/k}$. Tracer sur un graphique les suites $I_N$ et $I_S$, pour $k \\in [2,10]$."
   ]
  },
  {
   "cell_type": "code",
   "execution_count": null,
   "metadata": {
    "collapsed": true
   },
   "outputs": [],
   "source": []
  },
  {
   "cell_type": "markdown",
   "metadata": {},
   "source": [
    "## 2. Calcul de dérivées par différences finies\n",
    "\n",
    "On s'intéresse maintenant à l'approximation de $f = F'$ par la méthode des différences finies. On étudie la méthode des différences finies *centrées*, où $f$ est approchée par\n",
    "$$ f_\\varepsilon(x) := \\frac{F(x + \\varepsilon) - F(x - \\varepsilon)}{2 \\varepsilon}.$$\n",
    "\n",
    "**Exercice** : Écrire une fonction `diff_finie(F, eps)` qui prend une fonction `F` de $\\mathbb{R}$ dans $\\mathbb{R}$ et un paramètre `eps`, et qui renvoie la fonction $f_\\varepsilon$"
   ]
  },
  {
   "cell_type": "code",
   "execution_count": 12,
   "metadata": {
    "collapsed": true
   },
   "outputs": [],
   "source": []
  },
  {
   "cell_type": "markdown",
   "metadata": {},
   "source": [
    "### 2.1/ La précision numérique\n",
    "\n",
    "Un ordinateur ne peut retenir qu'un nombre fini de chiffres significatifs. Cela peut avoir un impact sur les calculs. Dans cette section, nous explorons les conséquences de cette finitude.\n",
    "\n",
    "**Exercice** : Tracer $g(\\eta) := [(1 + \\eta) - 1]/\\eta$ (attention aux parenthèses) pour $\\eta := 10^{-n}$, avec $n \\in [0, 20]$. Qu'observe-t-on ? Comment expliquer ce phénomène ?"
   ]
  },
  {
   "cell_type": "code",
   "execution_count": null,
   "metadata": {
    "collapsed": true
   },
   "outputs": [],
   "source": []
  },
  {
   "cell_type": "markdown",
   "metadata": {},
   "source": [
    "Cela suggère que Python ne peut retenir que 15 ou 16 chiffres significatifs.\n",
    "\n",
    "** Exercice ** : On veut zoomer sur ce qui se passe entre $10^{-15}$ et $10^{-16}$. Tracer la fonction $h(\\eta) := (1 + \\eta) - 1$ pour $\\eta \\in [10^{-15}, 10^{-16}]$. Que se passe-t-il ?"
   ]
  },
  {
   "cell_type": "code",
   "execution_count": null,
   "metadata": {
    "collapsed": true
   },
   "outputs": [],
   "source": []
  },
  {
   "cell_type": "markdown",
   "metadata": {},
   "source": [
    "On retiendra dans la suite que Python ne peut retenir qu'environ 16 chiffres significatifs."
   ]
  },
  {
   "cell_type": "markdown",
   "metadata": {},
   "source": [
    "### 2.2/ Précision des différences finies centrées\n",
    "\n",
    "On étudie maintenant les différences finies centrées.\n",
    "\n",
    "**Exercice** : Calculer `diff_finie` de la fonction $\\sin$, et comparer le résultat avec la fonction $\\cos$ pour plusieurs valeurs de $\\varepsilon$.\n",
    "- On prendra $\\varepsilon = 10^{-n}$ avec $n \\in [1, 20]$.\n",
    "- On affichera l'erreur $C^0([0, 2 \\pi])$ entre la fonction approchée et la fonction exacte (cf `max`) en fonction de $\\varepsilon$ (cf `semilogy`)\n",
    "\n",
    "Quel est le $\\varepsilon$ qui donne la meilleure approximation (cf `argmin`)?"
   ]
  },
  {
   "cell_type": "code",
   "execution_count": null,
   "metadata": {
    "collapsed": true
   },
   "outputs": [],
   "source": []
  },
  {
   "cell_type": "markdown",
   "metadata": {},
   "source": [
    "## 3. La méthode de Newton avec différence finie\n",
    "\n",
    "Dans la suite, on suppose qu'on veut utiliser l'algorithme de Newton, mais où $f'$ est approchée par une méthode de différence finie. On prendra $\\varepsilon = 10^{-5}$ dans la suite.\n",
    "\n",
    "**Exercice** : Écrire une fonction `racineNeme_NewtonDF(a, k, tol=1e-8, Niter=1000)` qui renvoie $a^{1/k}$ en utilisant la méthode de Newton avec différence finie. On prend les mêmes conventions qu'à la section 1.1/."
   ]
  },
  {
   "cell_type": "code",
   "execution_count": null,
   "metadata": {
    "collapsed": true
   },
   "outputs": [],
   "source": []
  },
  {
   "cell_type": "code",
   "execution_count": 133,
   "metadata": {
    "collapsed": true
   },
   "outputs": [],
   "source": [
    "# Vérification : ce code ne doit pas faire d'erreur\n",
    "a, k = (10*rand(1)), 3\n",
    "x, L = racineNeme_NewtonDF(a,k) # Votre solution\n",
    "assert( abs(x**k - a) < 1e-6), \"Erreur, problème dans la fonction racineNeme_Newton.\""
   ]
  },
  {
   "cell_type": "markdown",
   "metadata": {},
   "source": [
    "** Exercice ** : Combien de fois est évaluée la fonction $f$ par itération ?\n",
    "\n",
    "**Exercice** : De nouveau, vérifier que $10000^{1/4} = 10 =: x^*$ avec votre algorithme, puis afficher la suite $| x_n - x^* |$ en fonction de $n$, en échelle `semilogy`."
   ]
  },
  {
   "cell_type": "code",
   "execution_count": null,
   "metadata": {
    "collapsed": true
   },
   "outputs": [],
   "source": []
  },
  {
   "cell_type": "markdown",
   "metadata": {},
   "source": [
    "**Exercice** : Reprendre la question de 1.3/ En rajoutant la méthode de Newton par différence finie"
   ]
  },
  {
   "cell_type": "code",
   "execution_count": null,
   "metadata": {
    "collapsed": true
   },
   "outputs": [],
   "source": []
  }
 ],
 "metadata": {
  "anaconda-cloud": {},
  "kernelspec": {
   "display_name": "Python 3",
   "language": "python",
   "name": "python3"
  },
  "language_info": {
   "codemirror_mode": {
    "name": "ipython",
    "version": 3
   },
   "file_extension": ".py",
   "mimetype": "text/x-python",
   "name": "python",
   "nbconvert_exporter": "python",
   "pygments_lexer": "ipython3",
   "version": "3.7.5"
  }
 },
 "nbformat": 4,
 "nbformat_minor": 1
}
